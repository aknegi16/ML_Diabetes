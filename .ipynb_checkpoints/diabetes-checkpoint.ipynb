{
 "cells": [
  {
   "cell_type": "code",
   "execution_count": 53,
   "metadata": {},
   "outputs": [],
   "source": [
    "import pandas as pd\n",
    "import numpy as np"
   ]
  },
  {
   "cell_type": "code",
   "execution_count": 54,
   "metadata": {},
   "outputs": [],
   "source": [
    "from sklearn.linear_model import LogisticRegression\n",
    "import sklearn.decomposition as skdc\n",
    "import sklearn.linear_model as sklm \n",
    "from sklearn.model_selection import KFold\n",
    "from sklearn.model_selection import cross_val_score\n",
    "import sklearn.pipeline as skpl"
   ]
  },
  {
   "cell_type": "code",
   "execution_count": 55,
   "metadata": {},
   "outputs": [],
   "source": [
    "data = pd.read_csv('data/Pima_Indian_diabetes.csv')\n",
    "\n",
    "\n",
    "\n"
   ]
  },
  {
   "cell_type": "code",
   "execution_count": 56,
   "metadata": {},
   "outputs": [
    {
     "data": {
      "text/plain": [
       "(768, 9)"
      ]
     },
     "execution_count": 56,
     "metadata": {},
     "output_type": "execute_result"
    }
   ],
   "source": [
    "data.shape"
   ]
  },
  {
   "cell_type": "code",
   "execution_count": 57,
   "metadata": {},
   "outputs": [
    {
     "data": {
      "text/html": [
       "<style  type=\"text/css\" >\n",
       "    #T_a84ec1ac_d606_11e9_80a8_00f48d8648b3row0_col0 {\n",
       "            background-color:  #b40426;\n",
       "            color:  #f1f1f1;\n",
       "        }    #T_a84ec1ac_d606_11e9_80a8_00f48d8648b3row0_col1 {\n",
       "            background-color:  #3f53c6;\n",
       "            color:  #f1f1f1;\n",
       "        }    #T_a84ec1ac_d606_11e9_80a8_00f48d8648b3row0_col2 {\n",
       "            background-color:  #5470de;\n",
       "            color:  #000000;\n",
       "        }    #T_a84ec1ac_d606_11e9_80a8_00f48d8648b3row0_col3 {\n",
       "            background-color:  #4257c9;\n",
       "            color:  #f1f1f1;\n",
       "        }    #T_a84ec1ac_d606_11e9_80a8_00f48d8648b3row0_col4 {\n",
       "            background-color:  #3b4cc0;\n",
       "            color:  #f1f1f1;\n",
       "        }    #T_a84ec1ac_d606_11e9_80a8_00f48d8648b3row0_col5 {\n",
       "            background-color:  #3b4cc0;\n",
       "            color:  #f1f1f1;\n",
       "        }    #T_a84ec1ac_d606_11e9_80a8_00f48d8648b3row0_col6 {\n",
       "            background-color:  #3b4cc0;\n",
       "            color:  #f1f1f1;\n",
       "        }    #T_a84ec1ac_d606_11e9_80a8_00f48d8648b3row0_col7 {\n",
       "            background-color:  #e2dad5;\n",
       "            color:  #000000;\n",
       "        }    #T_a84ec1ac_d606_11e9_80a8_00f48d8648b3row0_col8 {\n",
       "            background-color:  #6687ed;\n",
       "            color:  #000000;\n",
       "        }    #T_a84ec1ac_d606_11e9_80a8_00f48d8648b3row1_col0 {\n",
       "            background-color:  #7093f3;\n",
       "            color:  #000000;\n",
       "        }    #T_a84ec1ac_d606_11e9_80a8_00f48d8648b3row1_col1 {\n",
       "            background-color:  #b40426;\n",
       "            color:  #f1f1f1;\n",
       "        }    #T_a84ec1ac_d606_11e9_80a8_00f48d8648b3row1_col2 {\n",
       "            background-color:  #5a78e4;\n",
       "            color:  #000000;\n",
       "        }    #T_a84ec1ac_d606_11e9_80a8_00f48d8648b3row1_col3 {\n",
       "            background-color:  #7396f5;\n",
       "            color:  #000000;\n",
       "        }    #T_a84ec1ac_d606_11e9_80a8_00f48d8648b3row1_col4 {\n",
       "            background-color:  #bcd2f7;\n",
       "            color:  #000000;\n",
       "        }    #T_a84ec1ac_d606_11e9_80a8_00f48d8648b3row1_col5 {\n",
       "            background-color:  #799cf8;\n",
       "            color:  #000000;\n",
       "        }    #T_a84ec1ac_d606_11e9_80a8_00f48d8648b3row1_col6 {\n",
       "            background-color:  #6b8df0;\n",
       "            color:  #000000;\n",
       "        }    #T_a84ec1ac_d606_11e9_80a8_00f48d8648b3row1_col7 {\n",
       "            background-color:  #aac7fd;\n",
       "            color:  #000000;\n",
       "        }    #T_a84ec1ac_d606_11e9_80a8_00f48d8648b3row1_col8 {\n",
       "            background-color:  #cbd8ee;\n",
       "            color:  #000000;\n",
       "        }    #T_a84ec1ac_d606_11e9_80a8_00f48d8648b3row2_col0 {\n",
       "            background-color:  #7b9ff9;\n",
       "            color:  #000000;\n",
       "        }    #T_a84ec1ac_d606_11e9_80a8_00f48d8648b3row2_col1 {\n",
       "            background-color:  #506bda;\n",
       "            color:  #000000;\n",
       "        }    #T_a84ec1ac_d606_11e9_80a8_00f48d8648b3row2_col2 {\n",
       "            background-color:  #b40426;\n",
       "            color:  #f1f1f1;\n",
       "        }    #T_a84ec1ac_d606_11e9_80a8_00f48d8648b3row2_col3 {\n",
       "            background-color:  #9dbdff;\n",
       "            color:  #000000;\n",
       "        }    #T_a84ec1ac_d606_11e9_80a8_00f48d8648b3row2_col4 {\n",
       "            background-color:  #7093f3;\n",
       "            color:  #000000;\n",
       "        }    #T_a84ec1ac_d606_11e9_80a8_00f48d8648b3row2_col5 {\n",
       "            background-color:  #9abbff;\n",
       "            color:  #000000;\n",
       "        }    #T_a84ec1ac_d606_11e9_80a8_00f48d8648b3row2_col6 {\n",
       "            background-color:  #506bda;\n",
       "            color:  #000000;\n",
       "        }    #T_a84ec1ac_d606_11e9_80a8_00f48d8648b3row2_col7 {\n",
       "            background-color:  #a5c3fe;\n",
       "            color:  #000000;\n",
       "        }    #T_a84ec1ac_d606_11e9_80a8_00f48d8648b3row2_col8 {\n",
       "            background-color:  #3b4cc0;\n",
       "            color:  #f1f1f1;\n",
       "        }    #T_a84ec1ac_d606_11e9_80a8_00f48d8648b3row3_col0 {\n",
       "            background-color:  #3b4cc0;\n",
       "            color:  #f1f1f1;\n",
       "        }    #T_a84ec1ac_d606_11e9_80a8_00f48d8648b3row3_col1 {\n",
       "            background-color:  #3b4cc0;\n",
       "            color:  #f1f1f1;\n",
       "        }    #T_a84ec1ac_d606_11e9_80a8_00f48d8648b3row3_col2 {\n",
       "            background-color:  #7295f4;\n",
       "            color:  #000000;\n",
       "        }    #T_a84ec1ac_d606_11e9_80a8_00f48d8648b3row3_col3 {\n",
       "            background-color:  #b40426;\n",
       "            color:  #f1f1f1;\n",
       "        }    #T_a84ec1ac_d606_11e9_80a8_00f48d8648b3row3_col4 {\n",
       "            background-color:  #d8dce2;\n",
       "            color:  #000000;\n",
       "        }    #T_a84ec1ac_d606_11e9_80a8_00f48d8648b3row3_col5 {\n",
       "            background-color:  #bcd2f7;\n",
       "            color:  #000000;\n",
       "        }    #T_a84ec1ac_d606_11e9_80a8_00f48d8648b3row3_col6 {\n",
       "            background-color:  #80a3fa;\n",
       "            color:  #000000;\n",
       "        }    #T_a84ec1ac_d606_11e9_80a8_00f48d8648b3row3_col7 {\n",
       "            background-color:  #3b4cc0;\n",
       "            color:  #f1f1f1;\n",
       "        }    #T_a84ec1ac_d606_11e9_80a8_00f48d8648b3row3_col8 {\n",
       "            background-color:  #4257c9;\n",
       "            color:  #f1f1f1;\n",
       "        }    #T_a84ec1ac_d606_11e9_80a8_00f48d8648b3row4_col0 {\n",
       "            background-color:  #3b4cc0;\n",
       "            color:  #f1f1f1;\n",
       "        }    #T_a84ec1ac_d606_11e9_80a8_00f48d8648b3row4_col1 {\n",
       "            background-color:  #96b7ff;\n",
       "            color:  #000000;\n",
       "        }    #T_a84ec1ac_d606_11e9_80a8_00f48d8648b3row4_col2 {\n",
       "            background-color:  #4a63d3;\n",
       "            color:  #f1f1f1;\n",
       "        }    #T_a84ec1ac_d606_11e9_80a8_00f48d8648b3row4_col3 {\n",
       "            background-color:  #dcdddd;\n",
       "            color:  #000000;\n",
       "        }    #T_a84ec1ac_d606_11e9_80a8_00f48d8648b3row4_col4 {\n",
       "            background-color:  #b40426;\n",
       "            color:  #f1f1f1;\n",
       "        }    #T_a84ec1ac_d606_11e9_80a8_00f48d8648b3row4_col5 {\n",
       "            background-color:  #7a9df8;\n",
       "            color:  #000000;\n",
       "        }    #T_a84ec1ac_d606_11e9_80a8_00f48d8648b3row4_col6 {\n",
       "            background-color:  #80a3fa;\n",
       "            color:  #000000;\n",
       "        }    #T_a84ec1ac_d606_11e9_80a8_00f48d8648b3row4_col7 {\n",
       "            background-color:  #4e68d8;\n",
       "            color:  #000000;\n",
       "        }    #T_a84ec1ac_d606_11e9_80a8_00f48d8648b3row4_col8 {\n",
       "            background-color:  #506bda;\n",
       "            color:  #000000;\n",
       "        }    #T_a84ec1ac_d606_11e9_80a8_00f48d8648b3row5_col0 {\n",
       "            background-color:  #516ddb;\n",
       "            color:  #000000;\n",
       "        }    #T_a84ec1ac_d606_11e9_80a8_00f48d8648b3row5_col1 {\n",
       "            background-color:  #5e7de7;\n",
       "            color:  #000000;\n",
       "        }    #T_a84ec1ac_d606_11e9_80a8_00f48d8648b3row5_col2 {\n",
       "            background-color:  #8badfd;\n",
       "            color:  #000000;\n",
       "        }    #T_a84ec1ac_d606_11e9_80a8_00f48d8648b3row5_col3 {\n",
       "            background-color:  #cfdaea;\n",
       "            color:  #000000;\n",
       "        }    #T_a84ec1ac_d606_11e9_80a8_00f48d8648b3row5_col4 {\n",
       "            background-color:  #90b2fe;\n",
       "            color:  #000000;\n",
       "        }    #T_a84ec1ac_d606_11e9_80a8_00f48d8648b3row5_col5 {\n",
       "            background-color:  #b40426;\n",
       "            color:  #f1f1f1;\n",
       "        }    #T_a84ec1ac_d606_11e9_80a8_00f48d8648b3row5_col6 {\n",
       "            background-color:  #7295f4;\n",
       "            color:  #000000;\n",
       "        }    #T_a84ec1ac_d606_11e9_80a8_00f48d8648b3row5_col7 {\n",
       "            background-color:  #6384eb;\n",
       "            color:  #000000;\n",
       "        }    #T_a84ec1ac_d606_11e9_80a8_00f48d8648b3row5_col8 {\n",
       "            background-color:  #86a9fc;\n",
       "            color:  #000000;\n",
       "        }    #T_a84ec1ac_d606_11e9_80a8_00f48d8648b3row6_col0 {\n",
       "            background-color:  #4b64d5;\n",
       "            color:  #f1f1f1;\n",
       "        }    #T_a84ec1ac_d606_11e9_80a8_00f48d8648b3row6_col1 {\n",
       "            background-color:  #4b64d5;\n",
       "            color:  #f1f1f1;\n",
       "        }    #T_a84ec1ac_d606_11e9_80a8_00f48d8648b3row6_col2 {\n",
       "            background-color:  #3b4cc0;\n",
       "            color:  #f1f1f1;\n",
       "        }    #T_a84ec1ac_d606_11e9_80a8_00f48d8648b3row6_col3 {\n",
       "            background-color:  #96b7ff;\n",
       "            color:  #000000;\n",
       "        }    #T_a84ec1ac_d606_11e9_80a8_00f48d8648b3row6_col4 {\n",
       "            background-color:  #8fb1fe;\n",
       "            color:  #000000;\n",
       "        }    #T_a84ec1ac_d606_11e9_80a8_00f48d8648b3row6_col5 {\n",
       "            background-color:  #6c8ff1;\n",
       "            color:  #000000;\n",
       "        }    #T_a84ec1ac_d606_11e9_80a8_00f48d8648b3row6_col6 {\n",
       "            background-color:  #b40426;\n",
       "            color:  #f1f1f1;\n",
       "        }    #T_a84ec1ac_d606_11e9_80a8_00f48d8648b3row6_col7 {\n",
       "            background-color:  #688aef;\n",
       "            color:  #000000;\n",
       "        }    #T_a84ec1ac_d606_11e9_80a8_00f48d8648b3row6_col8 {\n",
       "            background-color:  #5f7fe8;\n",
       "            color:  #000000;\n",
       "        }    #T_a84ec1ac_d606_11e9_80a8_00f48d8648b3row7_col0 {\n",
       "            background-color:  #dfdbd9;\n",
       "            color:  #000000;\n",
       "        }    #T_a84ec1ac_d606_11e9_80a8_00f48d8648b3row7_col1 {\n",
       "            background-color:  #799cf8;\n",
       "            color:  #000000;\n",
       "        }    #T_a84ec1ac_d606_11e9_80a8_00f48d8648b3row7_col2 {\n",
       "            background-color:  #7b9ff9;\n",
       "            color:  #000000;\n",
       "        }    #T_a84ec1ac_d606_11e9_80a8_00f48d8648b3row7_col3 {\n",
       "            background-color:  #3b4cc0;\n",
       "            color:  #f1f1f1;\n",
       "        }    #T_a84ec1ac_d606_11e9_80a8_00f48d8648b3row7_col4 {\n",
       "            background-color:  #465ecf;\n",
       "            color:  #f1f1f1;\n",
       "        }    #T_a84ec1ac_d606_11e9_80a8_00f48d8648b3row7_col5 {\n",
       "            background-color:  #455cce;\n",
       "            color:  #f1f1f1;\n",
       "        }    #T_a84ec1ac_d606_11e9_80a8_00f48d8648b3row7_col6 {\n",
       "            background-color:  #506bda;\n",
       "            color:  #000000;\n",
       "        }    #T_a84ec1ac_d606_11e9_80a8_00f48d8648b3row7_col7 {\n",
       "            background-color:  #b40426;\n",
       "            color:  #f1f1f1;\n",
       "        }    #T_a84ec1ac_d606_11e9_80a8_00f48d8648b3row7_col8 {\n",
       "            background-color:  #6e90f2;\n",
       "            color:  #000000;\n",
       "        }    #T_a84ec1ac_d606_11e9_80a8_00f48d8648b3row8_col0 {\n",
       "            background-color:  #93b5fe;\n",
       "            color:  #000000;\n",
       "        }    #T_a84ec1ac_d606_11e9_80a8_00f48d8648b3row8_col1 {\n",
       "            background-color:  #c9d7f0;\n",
       "            color:  #000000;\n",
       "        }    #T_a84ec1ac_d606_11e9_80a8_00f48d8648b3row8_col2 {\n",
       "            background-color:  #4257c9;\n",
       "            color:  #f1f1f1;\n",
       "        }    #T_a84ec1ac_d606_11e9_80a8_00f48d8648b3row8_col3 {\n",
       "            background-color:  #779af7;\n",
       "            color:  #000000;\n",
       "        }    #T_a84ec1ac_d606_11e9_80a8_00f48d8648b3row8_col4 {\n",
       "            background-color:  #7ea1fa;\n",
       "            color:  #000000;\n",
       "        }    #T_a84ec1ac_d606_11e9_80a8_00f48d8648b3row8_col5 {\n",
       "            background-color:  #9bbcff;\n",
       "            color:  #000000;\n",
       "        }    #T_a84ec1ac_d606_11e9_80a8_00f48d8648b3row8_col6 {\n",
       "            background-color:  #7b9ff9;\n",
       "            color:  #000000;\n",
       "        }    #T_a84ec1ac_d606_11e9_80a8_00f48d8648b3row8_col7 {\n",
       "            background-color:  #9fbfff;\n",
       "            color:  #000000;\n",
       "        }    #T_a84ec1ac_d606_11e9_80a8_00f48d8648b3row8_col8 {\n",
       "            background-color:  #b40426;\n",
       "            color:  #f1f1f1;\n",
       "        }</style><table id=\"T_a84ec1ac_d606_11e9_80a8_00f48d8648b3\" ><thead>    <tr>        <th class=\"blank level0\" ></th>        <th class=\"col_heading level0 col0\" >Pregnancies</th>        <th class=\"col_heading level0 col1\" >Glucose</th>        <th class=\"col_heading level0 col2\" >BloodPressure</th>        <th class=\"col_heading level0 col3\" >SkinThickness</th>        <th class=\"col_heading level0 col4\" >Insulin</th>        <th class=\"col_heading level0 col5\" >BMI</th>        <th class=\"col_heading level0 col6\" >DiabetesPedigreeFunction</th>        <th class=\"col_heading level0 col7\" >Age</th>        <th class=\"col_heading level0 col8\" >Outcome</th>    </tr></thead><tbody>\n",
       "                <tr>\n",
       "                        <th id=\"T_a84ec1ac_d606_11e9_80a8_00f48d8648b3level0_row0\" class=\"row_heading level0 row0\" >Pregnancies</th>\n",
       "                        <td id=\"T_a84ec1ac_d606_11e9_80a8_00f48d8648b3row0_col0\" class=\"data row0 col0\" >1</td>\n",
       "                        <td id=\"T_a84ec1ac_d606_11e9_80a8_00f48d8648b3row0_col1\" class=\"data row0 col1\" >0.0890994</td>\n",
       "                        <td id=\"T_a84ec1ac_d606_11e9_80a8_00f48d8648b3row0_col2\" class=\"data row0 col2\" >0.122399</td>\n",
       "                        <td id=\"T_a84ec1ac_d606_11e9_80a8_00f48d8648b3row0_col3\" class=\"data row0 col3\" >-0.0995139</td>\n",
       "                        <td id=\"T_a84ec1ac_d606_11e9_80a8_00f48d8648b3row0_col4\" class=\"data row0 col4\" >-0.0969645</td>\n",
       "                        <td id=\"T_a84ec1ac_d606_11e9_80a8_00f48d8648b3row0_col5\" class=\"data row0 col5\" >-0.0154301</td>\n",
       "                        <td id=\"T_a84ec1ac_d606_11e9_80a8_00f48d8648b3row0_col6\" class=\"data row0 col6\" >-0.035988</td>\n",
       "                        <td id=\"T_a84ec1ac_d606_11e9_80a8_00f48d8648b3row0_col7\" class=\"data row0 col7\" >0.461788</td>\n",
       "                        <td id=\"T_a84ec1ac_d606_11e9_80a8_00f48d8648b3row0_col8\" class=\"data row0 col8\" >0.194147</td>\n",
       "            </tr>\n",
       "            <tr>\n",
       "                        <th id=\"T_a84ec1ac_d606_11e9_80a8_00f48d8648b3level0_row1\" class=\"row_heading level0 row1\" >Glucose</th>\n",
       "                        <td id=\"T_a84ec1ac_d606_11e9_80a8_00f48d8648b3row1_col0\" class=\"data row1 col0\" >0.0890994</td>\n",
       "                        <td id=\"T_a84ec1ac_d606_11e9_80a8_00f48d8648b3row1_col1\" class=\"data row1 col1\" >1</td>\n",
       "                        <td id=\"T_a84ec1ac_d606_11e9_80a8_00f48d8648b3row1_col2\" class=\"data row1 col2\" >0.139863</td>\n",
       "                        <td id=\"T_a84ec1ac_d606_11e9_80a8_00f48d8648b3row1_col3\" class=\"data row1 col3\" >0.0726417</td>\n",
       "                        <td id=\"T_a84ec1ac_d606_11e9_80a8_00f48d8648b3row1_col4\" class=\"data row1 col4\" >0.329784</td>\n",
       "                        <td id=\"T_a84ec1ac_d606_11e9_80a8_00f48d8648b3row1_col5\" class=\"data row1 col5\" >0.179681</td>\n",
       "                        <td id=\"T_a84ec1ac_d606_11e9_80a8_00f48d8648b3row1_col6\" class=\"data row1 col6\" >0.124182</td>\n",
       "                        <td id=\"T_a84ec1ac_d606_11e9_80a8_00f48d8648b3row1_col7\" class=\"data row1 col7\" >0.250379</td>\n",
       "                        <td id=\"T_a84ec1ac_d606_11e9_80a8_00f48d8648b3row1_col8\" class=\"data row1 col8\" >0.469506</td>\n",
       "            </tr>\n",
       "            <tr>\n",
       "                        <th id=\"T_a84ec1ac_d606_11e9_80a8_00f48d8648b3level0_row2\" class=\"row_heading level0 row2\" >BloodPressure</th>\n",
       "                        <td id=\"T_a84ec1ac_d606_11e9_80a8_00f48d8648b3row2_col0\" class=\"data row2 col0\" >0.122399</td>\n",
       "                        <td id=\"T_a84ec1ac_d606_11e9_80a8_00f48d8648b3row2_col1\" class=\"data row2 col1\" >0.139863</td>\n",
       "                        <td id=\"T_a84ec1ac_d606_11e9_80a8_00f48d8648b3row2_col2\" class=\"data row2 col2\" >1</td>\n",
       "                        <td id=\"T_a84ec1ac_d606_11e9_80a8_00f48d8648b3row2_col3\" class=\"data row2 col3\" >0.207191</td>\n",
       "                        <td id=\"T_a84ec1ac_d606_11e9_80a8_00f48d8648b3row2_col4\" class=\"data row2 col4\" >0.0891479</td>\n",
       "                        <td id=\"T_a84ec1ac_d606_11e9_80a8_00f48d8648b3row2_col5\" class=\"data row2 col5\" >0.274645</td>\n",
       "                        <td id=\"T_a84ec1ac_d606_11e9_80a8_00f48d8648b3row2_col6\" class=\"data row2 col6\" >0.0399594</td>\n",
       "                        <td id=\"T_a84ec1ac_d606_11e9_80a8_00f48d8648b3row2_col7\" class=\"data row2 col7\" >0.231473</td>\n",
       "                        <td id=\"T_a84ec1ac_d606_11e9_80a8_00f48d8648b3row2_col8\" class=\"data row2 col8\" >0.0628176</td>\n",
       "            </tr>\n",
       "            <tr>\n",
       "                        <th id=\"T_a84ec1ac_d606_11e9_80a8_00f48d8648b3level0_row3\" class=\"row_heading level0 row3\" >SkinThickness</th>\n",
       "                        <td id=\"T_a84ec1ac_d606_11e9_80a8_00f48d8648b3row3_col0\" class=\"data row3 col0\" >-0.0995139</td>\n",
       "                        <td id=\"T_a84ec1ac_d606_11e9_80a8_00f48d8648b3row3_col1\" class=\"data row3 col1\" >0.0726417</td>\n",
       "                        <td id=\"T_a84ec1ac_d606_11e9_80a8_00f48d8648b3row3_col2\" class=\"data row3 col2\" >0.207191</td>\n",
       "                        <td id=\"T_a84ec1ac_d606_11e9_80a8_00f48d8648b3row3_col3\" class=\"data row3 col3\" >1</td>\n",
       "                        <td id=\"T_a84ec1ac_d606_11e9_80a8_00f48d8648b3row3_col4\" class=\"data row3 col4\" >0.43267</td>\n",
       "                        <td id=\"T_a84ec1ac_d606_11e9_80a8_00f48d8648b3row3_col5\" class=\"data row3 col5\" >0.381212</td>\n",
       "                        <td id=\"T_a84ec1ac_d606_11e9_80a8_00f48d8648b3row3_col6\" class=\"data row3 col6\" >0.183684</td>\n",
       "                        <td id=\"T_a84ec1ac_d606_11e9_80a8_00f48d8648b3row3_col7\" class=\"data row3 col7\" >-0.126011</td>\n",
       "                        <td id=\"T_a84ec1ac_d606_11e9_80a8_00f48d8648b3row3_col8\" class=\"data row3 col8\" >0.0853659</td>\n",
       "            </tr>\n",
       "            <tr>\n",
       "                        <th id=\"T_a84ec1ac_d606_11e9_80a8_00f48d8648b3level0_row4\" class=\"row_heading level0 row4\" >Insulin</th>\n",
       "                        <td id=\"T_a84ec1ac_d606_11e9_80a8_00f48d8648b3row4_col0\" class=\"data row4 col0\" >-0.0969645</td>\n",
       "                        <td id=\"T_a84ec1ac_d606_11e9_80a8_00f48d8648b3row4_col1\" class=\"data row4 col1\" >0.329784</td>\n",
       "                        <td id=\"T_a84ec1ac_d606_11e9_80a8_00f48d8648b3row4_col2\" class=\"data row4 col2\" >0.0891479</td>\n",
       "                        <td id=\"T_a84ec1ac_d606_11e9_80a8_00f48d8648b3row4_col3\" class=\"data row4 col3\" >0.43267</td>\n",
       "                        <td id=\"T_a84ec1ac_d606_11e9_80a8_00f48d8648b3row4_col4\" class=\"data row4 col4\" >1</td>\n",
       "                        <td id=\"T_a84ec1ac_d606_11e9_80a8_00f48d8648b3row4_col5\" class=\"data row4 col5\" >0.186688</td>\n",
       "                        <td id=\"T_a84ec1ac_d606_11e9_80a8_00f48d8648b3row4_col6\" class=\"data row4 col6\" >0.185071</td>\n",
       "                        <td id=\"T_a84ec1ac_d606_11e9_80a8_00f48d8648b3row4_col7\" class=\"data row4 col7\" >-0.0516003</td>\n",
       "                        <td id=\"T_a84ec1ac_d606_11e9_80a8_00f48d8648b3row4_col8\" class=\"data row4 col8\" >0.130548</td>\n",
       "            </tr>\n",
       "            <tr>\n",
       "                        <th id=\"T_a84ec1ac_d606_11e9_80a8_00f48d8648b3level0_row5\" class=\"row_heading level0 row5\" >BMI</th>\n",
       "                        <td id=\"T_a84ec1ac_d606_11e9_80a8_00f48d8648b3row5_col0\" class=\"data row5 col0\" >-0.0154301</td>\n",
       "                        <td id=\"T_a84ec1ac_d606_11e9_80a8_00f48d8648b3row5_col1\" class=\"data row5 col1\" >0.179681</td>\n",
       "                        <td id=\"T_a84ec1ac_d606_11e9_80a8_00f48d8648b3row5_col2\" class=\"data row5 col2\" >0.274645</td>\n",
       "                        <td id=\"T_a84ec1ac_d606_11e9_80a8_00f48d8648b3row5_col3\" class=\"data row5 col3\" >0.381212</td>\n",
       "                        <td id=\"T_a84ec1ac_d606_11e9_80a8_00f48d8648b3row5_col4\" class=\"data row5 col4\" >0.186688</td>\n",
       "                        <td id=\"T_a84ec1ac_d606_11e9_80a8_00f48d8648b3row5_col5\" class=\"data row5 col5\" >1</td>\n",
       "                        <td id=\"T_a84ec1ac_d606_11e9_80a8_00f48d8648b3row5_col6\" class=\"data row5 col6\" >0.145734</td>\n",
       "                        <td id=\"T_a84ec1ac_d606_11e9_80a8_00f48d8648b3row5_col7\" class=\"data row5 col7\" >0.0209178</td>\n",
       "                        <td id=\"T_a84ec1ac_d606_11e9_80a8_00f48d8648b3row5_col8\" class=\"data row5 col8\" >0.279651</td>\n",
       "            </tr>\n",
       "            <tr>\n",
       "                        <th id=\"T_a84ec1ac_d606_11e9_80a8_00f48d8648b3level0_row6\" class=\"row_heading level0 row6\" >DiabetesPedigreeFunction</th>\n",
       "                        <td id=\"T_a84ec1ac_d606_11e9_80a8_00f48d8648b3row6_col0\" class=\"data row6 col0\" >-0.035988</td>\n",
       "                        <td id=\"T_a84ec1ac_d606_11e9_80a8_00f48d8648b3row6_col1\" class=\"data row6 col1\" >0.124182</td>\n",
       "                        <td id=\"T_a84ec1ac_d606_11e9_80a8_00f48d8648b3row6_col2\" class=\"data row6 col2\" >0.0399594</td>\n",
       "                        <td id=\"T_a84ec1ac_d606_11e9_80a8_00f48d8648b3row6_col3\" class=\"data row6 col3\" >0.183684</td>\n",
       "                        <td id=\"T_a84ec1ac_d606_11e9_80a8_00f48d8648b3row6_col4\" class=\"data row6 col4\" >0.185071</td>\n",
       "                        <td id=\"T_a84ec1ac_d606_11e9_80a8_00f48d8648b3row6_col5\" class=\"data row6 col5\" >0.145734</td>\n",
       "                        <td id=\"T_a84ec1ac_d606_11e9_80a8_00f48d8648b3row6_col6\" class=\"data row6 col6\" >1</td>\n",
       "                        <td id=\"T_a84ec1ac_d606_11e9_80a8_00f48d8648b3row6_col7\" class=\"data row6 col7\" >0.0375535</td>\n",
       "                        <td id=\"T_a84ec1ac_d606_11e9_80a8_00f48d8648b3row6_col8\" class=\"data row6 col8\" >0.173844</td>\n",
       "            </tr>\n",
       "            <tr>\n",
       "                        <th id=\"T_a84ec1ac_d606_11e9_80a8_00f48d8648b3level0_row7\" class=\"row_heading level0 row7\" >Age</th>\n",
       "                        <td id=\"T_a84ec1ac_d606_11e9_80a8_00f48d8648b3row7_col0\" class=\"data row7 col0\" >0.461788</td>\n",
       "                        <td id=\"T_a84ec1ac_d606_11e9_80a8_00f48d8648b3row7_col1\" class=\"data row7 col1\" >0.250379</td>\n",
       "                        <td id=\"T_a84ec1ac_d606_11e9_80a8_00f48d8648b3row7_col2\" class=\"data row7 col2\" >0.231473</td>\n",
       "                        <td id=\"T_a84ec1ac_d606_11e9_80a8_00f48d8648b3row7_col3\" class=\"data row7 col3\" >-0.126011</td>\n",
       "                        <td id=\"T_a84ec1ac_d606_11e9_80a8_00f48d8648b3row7_col4\" class=\"data row7 col4\" >-0.0516003</td>\n",
       "                        <td id=\"T_a84ec1ac_d606_11e9_80a8_00f48d8648b3row7_col5\" class=\"data row7 col5\" >0.0209178</td>\n",
       "                        <td id=\"T_a84ec1ac_d606_11e9_80a8_00f48d8648b3row7_col6\" class=\"data row7 col6\" >0.0375535</td>\n",
       "                        <td id=\"T_a84ec1ac_d606_11e9_80a8_00f48d8648b3row7_col7\" class=\"data row7 col7\" >1</td>\n",
       "                        <td id=\"T_a84ec1ac_d606_11e9_80a8_00f48d8648b3row7_col8\" class=\"data row7 col8\" >0.216095</td>\n",
       "            </tr>\n",
       "            <tr>\n",
       "                        <th id=\"T_a84ec1ac_d606_11e9_80a8_00f48d8648b3level0_row8\" class=\"row_heading level0 row8\" >Outcome</th>\n",
       "                        <td id=\"T_a84ec1ac_d606_11e9_80a8_00f48d8648b3row8_col0\" class=\"data row8 col0\" >0.194147</td>\n",
       "                        <td id=\"T_a84ec1ac_d606_11e9_80a8_00f48d8648b3row8_col1\" class=\"data row8 col1\" >0.469506</td>\n",
       "                        <td id=\"T_a84ec1ac_d606_11e9_80a8_00f48d8648b3row8_col2\" class=\"data row8 col2\" >0.0628176</td>\n",
       "                        <td id=\"T_a84ec1ac_d606_11e9_80a8_00f48d8648b3row8_col3\" class=\"data row8 col3\" >0.0853659</td>\n",
       "                        <td id=\"T_a84ec1ac_d606_11e9_80a8_00f48d8648b3row8_col4\" class=\"data row8 col4\" >0.130548</td>\n",
       "                        <td id=\"T_a84ec1ac_d606_11e9_80a8_00f48d8648b3row8_col5\" class=\"data row8 col5\" >0.279651</td>\n",
       "                        <td id=\"T_a84ec1ac_d606_11e9_80a8_00f48d8648b3row8_col6\" class=\"data row8 col6\" >0.173844</td>\n",
       "                        <td id=\"T_a84ec1ac_d606_11e9_80a8_00f48d8648b3row8_col7\" class=\"data row8 col7\" >0.216095</td>\n",
       "                        <td id=\"T_a84ec1ac_d606_11e9_80a8_00f48d8648b3row8_col8\" class=\"data row8 col8\" >1</td>\n",
       "            </tr>\n",
       "    </tbody></table>"
      ],
      "text/plain": [
       "<pandas.io.formats.style.Styler at 0x7f935fa610f0>"
      ]
     },
     "execution_count": 57,
     "metadata": {},
     "output_type": "execute_result"
    }
   ],
   "source": [
    "corr=data.corr()\n",
    "corr.style.background_gradient(cmap='coolwarm')"
   ]
  },
  {
   "cell_type": "code",
   "execution_count": 8,
   "metadata": {},
   "outputs": [
    {
     "data": {
      "text/plain": [
       "Pregnancies                 26\n",
       "Glucose                     16\n",
       "BloodPressure                0\n",
       "SkinThickness               22\n",
       "Insulin                      0\n",
       "BMI                         11\n",
       "DiabetesPedigreeFunction     0\n",
       "Age                         19\n",
       "Outcome                      0\n",
       "dtype: int64"
      ]
     },
     "execution_count": 8,
     "metadata": {},
     "output_type": "execute_result"
    }
   ],
   "source": [
    "data.isnull().sum(axis=0)\n"
   ]
  },
  {
   "cell_type": "code",
   "execution_count": 9,
   "metadata": {},
   "outputs": [],
   "source": [
    "#data['Pregnancies']=data['Pregnancies'].fillna((data['Pregnancies'].mean()))\n",
    "data['Pregnancies']=data['Pregnancies'].fillna((0))\n"
   ]
  },
  {
   "cell_type": "code",
   "execution_count": null,
   "metadata": {},
   "outputs": [],
   "source": []
  },
  {
   "cell_type": "code",
   "execution_count": 10,
   "metadata": {},
   "outputs": [
    {
     "data": {
      "text/plain": [
       "(768, 9)"
      ]
     },
     "execution_count": 10,
     "metadata": {},
     "output_type": "execute_result"
    }
   ],
   "source": [
    "data['Glucose']=data['Glucose'].fillna((data['Glucose'].mean()))\n",
    "data.shape"
   ]
  },
  {
   "cell_type": "code",
   "execution_count": 11,
   "metadata": {},
   "outputs": [],
   "source": [
    "#data['SkinThickness']=data['SkinThickness'].fillna((data['SkinThickness'].mean()))\n"
   ]
  },
  {
   "cell_type": "code",
   "execution_count": 12,
   "metadata": {},
   "outputs": [],
   "source": [
    "\n",
    "\n",
    "data['BMI']=data['BMI'].fillna((0))"
   ]
  },
  {
   "cell_type": "code",
   "execution_count": 13,
   "metadata": {},
   "outputs": [
    {
     "data": {
      "text/plain": [
       "33.76133595599271"
      ]
     },
     "execution_count": 13,
     "metadata": {},
     "output_type": "execute_result"
    }
   ],
   "source": [
    "data['Age'].mean()\n",
    "\n",
    "\n"
   ]
  },
  {
   "cell_type": "code",
   "execution_count": 14,
   "metadata": {},
   "outputs": [],
   "source": [
    "\n",
    "data['Age']=data['Age'].fillna((25))"
   ]
  },
  {
   "cell_type": "code",
   "execution_count": 15,
   "metadata": {},
   "outputs": [
    {
     "data": {
      "text/plain": [
       "(768, 9)"
      ]
     },
     "execution_count": 15,
     "metadata": {},
     "output_type": "execute_result"
    }
   ],
   "source": [
    "data.shape"
   ]
  },
  {
   "cell_type": "code",
   "execution_count": 16,
   "metadata": {},
   "outputs": [],
   "source": [
    "convert_dic={'Pregnancies':int}\n"
   ]
  },
  {
   "cell_type": "code",
   "execution_count": 17,
   "metadata": {},
   "outputs": [],
   "source": [
    "data=data.astype(convert_dic)\n"
   ]
  },
  {
   "cell_type": "code",
   "execution_count": 18,
   "metadata": {},
   "outputs": [
    {
     "data": {
      "text/plain": [
       "(768, 9)"
      ]
     },
     "execution_count": 18,
     "metadata": {},
     "output_type": "execute_result"
    }
   ],
   "source": [
    "data.shape"
   ]
  },
  {
   "cell_type": "code",
   "execution_count": 19,
   "metadata": {},
   "outputs": [],
   "source": [
    "negage=data[data['Age']<18].index\n"
   ]
  },
  {
   "cell_type": "code",
   "execution_count": 20,
   "metadata": {},
   "outputs": [],
   "source": [
    "data.drop(negage,inplace=True)"
   ]
  },
  {
   "cell_type": "code",
   "execution_count": 21,
   "metadata": {},
   "outputs": [
    {
     "data": {
      "text/plain": [
       "(768, 9)"
      ]
     },
     "execution_count": 21,
     "metadata": {},
     "output_type": "execute_result"
    }
   ],
   "source": [
    "data.shape"
   ]
  },
  {
   "cell_type": "code",
   "execution_count": 22,
   "metadata": {},
   "outputs": [],
   "source": [
    "negpreg=data[data['Pregnancies']<0].index"
   ]
  },
  {
   "cell_type": "code",
   "execution_count": 23,
   "metadata": {},
   "outputs": [],
   "source": [
    "data.drop(negpreg,inplace=True)"
   ]
  },
  {
   "cell_type": "code",
   "execution_count": 24,
   "metadata": {},
   "outputs": [
    {
     "data": {
      "text/plain": [
       "(765, 9)"
      ]
     },
     "execution_count": 24,
     "metadata": {},
     "output_type": "execute_result"
    }
   ],
   "source": [
    "data.shape"
   ]
  },
  {
   "cell_type": "code",
   "execution_count": 25,
   "metadata": {},
   "outputs": [],
   "source": [
    "negbmi=data[data['BMI']<=0].index"
   ]
  },
  {
   "cell_type": "code",
   "execution_count": 26,
   "metadata": {},
   "outputs": [
    {
     "data": {
      "text/plain": [
       "(765, 9)"
      ]
     },
     "execution_count": 26,
     "metadata": {},
     "output_type": "execute_result"
    }
   ],
   "source": [
    "data.shape"
   ]
  },
  {
   "cell_type": "code",
   "execution_count": 27,
   "metadata": {},
   "outputs": [],
   "source": [
    "data.drop(negbmi,inplace=True)"
   ]
  },
  {
   "cell_type": "code",
   "execution_count": 28,
   "metadata": {},
   "outputs": [],
   "source": [
    "#negins=data[data['Insulin']<=0].index"
   ]
  },
  {
   "cell_type": "code",
   "execution_count": 29,
   "metadata": {},
   "outputs": [],
   "source": [
    "#data.drop(negins,inplace=True)"
   ]
  },
  {
   "cell_type": "code",
   "execution_count": 30,
   "metadata": {},
   "outputs": [],
   "source": [
    "#negskin=data[data['SkinThickness']<0].index"
   ]
  },
  {
   "cell_type": "code",
   "execution_count": 31,
   "metadata": {},
   "outputs": [],
   "source": [
    "#data.drop(negskin,inplace=True)"
   ]
  },
  {
   "cell_type": "code",
   "execution_count": 32,
   "metadata": {},
   "outputs": [],
   "source": [
    "negglu=data[data['Glucose']<=0].index"
   ]
  },
  {
   "cell_type": "code",
   "execution_count": 33,
   "metadata": {},
   "outputs": [],
   "source": [
    "data.drop(negglu,inplace=True)"
   ]
  },
  {
   "cell_type": "code",
   "execution_count": 34,
   "metadata": {},
   "outputs": [],
   "source": [
    "negbp=data[data['BloodPressure']<=0].index"
   ]
  },
  {
   "cell_type": "code",
   "execution_count": 35,
   "metadata": {},
   "outputs": [],
   "source": [
    "data.drop(negbp,inplace=True)\n"
   ]
  },
  {
   "cell_type": "code",
   "execution_count": 36,
   "metadata": {},
   "outputs": [],
   "source": [
    "#data['Age']=data['Age'].replace(0.0,data['Age'].mean())"
   ]
  },
  {
   "cell_type": "code",
   "execution_count": null,
   "metadata": {},
   "outputs": [],
   "source": []
  },
  {
   "cell_type": "code",
   "execution_count": 37,
   "metadata": {},
   "outputs": [],
   "source": [
    "data.drop('SkinThickness',axis=1,inplace=True)\n"
   ]
  },
  {
   "cell_type": "code",
   "execution_count": 38,
   "metadata": {},
   "outputs": [],
   "source": [
    "data.drop('Insulin',axis=1,inplace=True)"
   ]
  },
  {
   "cell_type": "code",
   "execution_count": 39,
   "metadata": {},
   "outputs": [
    {
     "name": "stdout",
     "output_type": "stream",
     "text": [
      "<class 'pandas.core.frame.DataFrame'>\n",
      "Int64Index: 707 entries, 0 to 767\n",
      "Data columns (total 7 columns):\n",
      "Pregnancies                 707 non-null int64\n",
      "Glucose                     707 non-null float64\n",
      "BloodPressure               707 non-null float64\n",
      "BMI                         707 non-null float64\n",
      "DiabetesPedigreeFunction    707 non-null float64\n",
      "Age                         707 non-null float64\n",
      "Outcome                     707 non-null int64\n",
      "dtypes: float64(5), int64(2)\n",
      "memory usage: 44.2 KB\n"
     ]
    }
   ],
   "source": [
    "data.info()"
   ]
  },
  {
   "cell_type": "code",
   "execution_count": null,
   "metadata": {},
   "outputs": [],
   "source": []
  },
  {
   "cell_type": "code",
   "execution_count": 40,
   "metadata": {},
   "outputs": [
    {
     "data": {
      "text/plain": [
       "'\"data.loc[data[\"Glucose\"] == 0.0, \"Glucose\"] = np.NAN\\ndata.loc[data[\"BloodPressure\"] == 0.0, \"BloodPressure\"] = np.NAN\\n#data.loc[data[\"SkinThickness\"] == 0.0, \"SkinThickness\"] = np.NAN\\n#data.loc[data[\"Insulin\"] == 0.0, \"Insulin\"] = np.NAN\\ndata.loc[data[\"BMI\"] == 0.0, \"BMI\"] = np.NAN\\n\\ndata.isnull().sum()[1:6]'"
      ]
     },
     "execution_count": 40,
     "metadata": {},
     "output_type": "execute_result"
    }
   ],
   "source": [
    "\"\"\"\"data.loc[data[\"Glucose\"] == 0.0, \"Glucose\"] = np.NAN\n",
    "data.loc[data[\"BloodPressure\"] == 0.0, \"BloodPressure\"] = np.NAN\n",
    "#data.loc[data[\"SkinThickness\"] == 0.0, \"SkinThickness\"] = np.NAN\n",
    "#data.loc[data[\"Insulin\"] == 0.0, \"Insulin\"] = np.NAN\n",
    "data.loc[data[\"BMI\"] == 0.0, \"BMI\"] = np.NAN\n",
    "\n",
    "data.isnull().sum()[1:6]\"\"\"\n"
   ]
  },
  {
   "cell_type": "code",
   "execution_count": 41,
   "metadata": {},
   "outputs": [
    {
     "data": {
      "text/plain": [
       "(707, 7)"
      ]
     },
     "execution_count": 41,
     "metadata": {},
     "output_type": "execute_result"
    }
   ],
   "source": [
    "data.shape\n"
   ]
  },
  {
   "cell_type": "code",
   "execution_count": 42,
   "metadata": {},
   "outputs": [],
   "source": [
    "def standardization(x): #Define function to standardize the data, since all variables are not in the same units\n",
    "    xmean = np.mean(x) ##calculate mean\n",
    "    sd = np.std(x) ##calculate standard deviation \n",
    "    x_z = (x - xmean) / sd ##calculate standardized value to return\n",
    "    return(x_z)"
   ]
  },
  {
   "cell_type": "code",
   "execution_count": 43,
   "metadata": {},
   "outputs": [
    {
     "name": "stderr",
     "output_type": "stream",
     "text": [
      "/home/akash/.local/lib/python3.6/site-packages/ipykernel_launcher.py:1: FutureWarning: The broadcast argument is deprecated and will be removed in a future version. You can specify result_type='broadcast' to broadcast the result to the original dimensions\n",
      "  \"\"\"Entry point for launching an IPython kernel.\n"
     ]
    }
   ],
   "source": [
    "\n",
    "data_stnd = data.drop(['Outcome'], 1).apply(standardization,broadcast = True) \n",
    "##drop response variable and standardize predictor variables\n",
    "data_stnd.head()\n",
    "X = data_stnd #store predictor variables\n",
    "y = data['Outcome'] #store response variable\n",
    "pca = skdc.PCA()\n",
    "pcafit = pca.fit_transform(X,y)\n",
    "var_explained = pca.explained_variance_ratio_ \n",
    "pca = skdc.PCA(n_components = 6) #only include first 10 components\n",
    "logreg = sklm.LogisticRegression(solver='lbfgs')#empty model space\n",
    "pipeline = skpl.Pipeline([('pca', pca), ('logistic', logreg)])"
   ]
  },
  {
   "cell_type": "markdown",
   "metadata": {},
   "source": [
    "data=data.sample(frac=1)"
   ]
  },
  {
   "cell_type": "code",
   "execution_count": 44,
   "metadata": {},
   "outputs": [],
   "source": [
    "data=data.sample(frac=1)"
   ]
  },
  {
   "cell_type": "code",
   "execution_count": 45,
   "metadata": {},
   "outputs": [],
   "source": [
    "dfTrain = data[:600]\n",
    "dfTest = data[601:]\n"
   ]
  },
  {
   "cell_type": "code",
   "execution_count": 46,
   "metadata": {},
   "outputs": [],
   "source": [
    "trainLabel = np.asarray(dfTrain['Outcome'])\n",
    "trainData = np.asarray(dfTrain.drop('Outcome',1))\n",
    "testLabel = np.asarray(dfTest['Outcome'])\n",
    "testData = np.asarray(dfTest.drop('Outcome',1))"
   ]
  },
  {
   "cell_type": "code",
   "execution_count": 47,
   "metadata": {},
   "outputs": [
    {
     "data": {
      "text/plain": [
       "'\"means = np.mean(trainData, axis=0)\\nstds = np.std(trainData, axis=0)\\ntrainData = (trainData - means)/stds\\ntestData = (testData - means)/stds'"
      ]
     },
     "execution_count": 47,
     "metadata": {},
     "output_type": "execute_result"
    }
   ],
   "source": [
    "#normalisation\n",
    "\"\"\"\"means = np.mean(trainData, axis=0)\n",
    "stds = np.std(trainData, axis=0)\n",
    "trainData = (trainData - means)/stds\n",
    "testData = (testData - means)/stds\"\"\""
   ]
  },
  {
   "cell_type": "code",
   "execution_count": null,
   "metadata": {},
   "outputs": [],
   "source": [
    "\n"
   ]
  },
  {
   "cell_type": "code",
   "execution_count": null,
   "metadata": {},
   "outputs": [],
   "source": []
  },
  {
   "cell_type": "code",
   "execution_count": null,
   "metadata": {},
   "outputs": [],
   "source": []
  },
  {
   "cell_type": "code",
   "execution_count": null,
   "metadata": {},
   "outputs": [],
   "source": []
  },
  {
   "cell_type": "code",
   "execution_count": 48,
   "metadata": {},
   "outputs": [
    {
     "data": {
      "text/plain": [
       "Pipeline(memory=None,\n",
       "         steps=[('pca',\n",
       "                 PCA(copy=True, iterated_power='auto', n_components=6,\n",
       "                     random_state=None, svd_solver='auto', tol=0.0,\n",
       "                     whiten=False)),\n",
       "                ('logistic',\n",
       "                 LogisticRegression(C=1.0, class_weight=None, dual=False,\n",
       "                                    fit_intercept=True, intercept_scaling=1,\n",
       "                                    l1_ratio=None, max_iter=100,\n",
       "                                    multi_class='warn', n_jobs=None,\n",
       "                                    penalty='l2', random_state=None,\n",
       "                                    solver='lbfgs', tol=0.0001, verbose=0,\n",
       "                                    warm_start=False))],\n",
       "         verbose=False)"
      ]
     },
     "execution_count": 48,
     "metadata": {},
     "output_type": "execute_result"
    }
   ],
   "source": [
    "#diabetesCheck = LogisticRegression()\n",
    "#diabetesCheck.fit(trainData, trainLabel)\n",
    "pipeline.fit(trainData, trainLabel)"
   ]
  },
  {
   "cell_type": "code",
   "execution_count": 49,
   "metadata": {},
   "outputs": [],
   "source": [
    "kfold = KFold(n_splits=10, random_state=10) \n",
    "score = cross_val_score(pipeline, X, y, cv=kfold, scoring='accuracy').mean()"
   ]
  },
  {
   "cell_type": "code",
   "execution_count": 50,
   "metadata": {},
   "outputs": [
    {
     "name": "stdout",
     "output_type": "stream",
     "text": [
      "accuracy =  76.38229376257544 %\n"
     ]
    }
   ],
   "source": [
    "#accuracy = pipeline.score(testData, testLabel)\n",
    "print(\"accuracy = \", score* 100, \"%\")"
   ]
  },
  {
   "cell_type": "code",
   "execution_count": 51,
   "metadata": {},
   "outputs": [
    {
     "data": {
      "text/html": [
       "<div>\n",
       "<style scoped>\n",
       "    .dataframe tbody tr th:only-of-type {\n",
       "        vertical-align: middle;\n",
       "    }\n",
       "\n",
       "    .dataframe tbody tr th {\n",
       "        vertical-align: top;\n",
       "    }\n",
       "\n",
       "    .dataframe thead th {\n",
       "        text-align: right;\n",
       "    }\n",
       "</style>\n",
       "<table border=\"1\" class=\"dataframe\">\n",
       "  <thead>\n",
       "    <tr style=\"text-align: right;\">\n",
       "      <th></th>\n",
       "      <th>Pregnancies</th>\n",
       "      <th>Glucose</th>\n",
       "      <th>BloodPressure</th>\n",
       "      <th>BMI</th>\n",
       "      <th>DiabetesPedigreeFunction</th>\n",
       "      <th>Age</th>\n",
       "      <th>Outcome</th>\n",
       "    </tr>\n",
       "  </thead>\n",
       "  <tbody>\n",
       "    <tr>\n",
       "      <td>694</td>\n",
       "      <td>2</td>\n",
       "      <td>90.0</td>\n",
       "      <td>60.0</td>\n",
       "      <td>23.500000</td>\n",
       "      <td>0.191</td>\n",
       "      <td>25.0</td>\n",
       "      <td>0</td>\n",
       "    </tr>\n",
       "    <tr>\n",
       "      <td>84</td>\n",
       "      <td>5</td>\n",
       "      <td>137.0</td>\n",
       "      <td>108.0</td>\n",
       "      <td>48.800000</td>\n",
       "      <td>0.227</td>\n",
       "      <td>37.0</td>\n",
       "      <td>1</td>\n",
       "    </tr>\n",
       "    <tr>\n",
       "      <td>366</td>\n",
       "      <td>6</td>\n",
       "      <td>124.0</td>\n",
       "      <td>72.0</td>\n",
       "      <td>27.600000</td>\n",
       "      <td>0.368</td>\n",
       "      <td>29.0</td>\n",
       "      <td>1</td>\n",
       "    </tr>\n",
       "    <tr>\n",
       "      <td>402</td>\n",
       "      <td>5</td>\n",
       "      <td>136.0</td>\n",
       "      <td>84.0</td>\n",
       "      <td>35.000000</td>\n",
       "      <td>0.286</td>\n",
       "      <td>35.0</td>\n",
       "      <td>1</td>\n",
       "    </tr>\n",
       "    <tr>\n",
       "      <td>355</td>\n",
       "      <td>9</td>\n",
       "      <td>165.0</td>\n",
       "      <td>88.0</td>\n",
       "      <td>30.400000</td>\n",
       "      <td>0.302</td>\n",
       "      <td>49.0</td>\n",
       "      <td>1</td>\n",
       "    </tr>\n",
       "    <tr>\n",
       "      <td>...</td>\n",
       "      <td>...</td>\n",
       "      <td>...</td>\n",
       "      <td>...</td>\n",
       "      <td>...</td>\n",
       "      <td>...</td>\n",
       "      <td>...</td>\n",
       "      <td>...</td>\n",
       "    </tr>\n",
       "    <tr>\n",
       "      <td>564</td>\n",
       "      <td>0</td>\n",
       "      <td>91.0</td>\n",
       "      <td>80.0</td>\n",
       "      <td>32.400000</td>\n",
       "      <td>0.601</td>\n",
       "      <td>27.0</td>\n",
       "      <td>0</td>\n",
       "    </tr>\n",
       "    <tr>\n",
       "      <td>101</td>\n",
       "      <td>1</td>\n",
       "      <td>151.0</td>\n",
       "      <td>60.0</td>\n",
       "      <td>13.518127</td>\n",
       "      <td>0.179</td>\n",
       "      <td>22.0</td>\n",
       "      <td>0</td>\n",
       "    </tr>\n",
       "    <tr>\n",
       "      <td>139</td>\n",
       "      <td>5</td>\n",
       "      <td>105.0</td>\n",
       "      <td>72.0</td>\n",
       "      <td>36.900000</td>\n",
       "      <td>0.159</td>\n",
       "      <td>28.0</td>\n",
       "      <td>0</td>\n",
       "    </tr>\n",
       "    <tr>\n",
       "      <td>548</td>\n",
       "      <td>1</td>\n",
       "      <td>164.0</td>\n",
       "      <td>82.0</td>\n",
       "      <td>32.800000</td>\n",
       "      <td>0.341</td>\n",
       "      <td>50.0</td>\n",
       "      <td>0</td>\n",
       "    </tr>\n",
       "    <tr>\n",
       "      <td>590</td>\n",
       "      <td>11</td>\n",
       "      <td>111.0</td>\n",
       "      <td>84.0</td>\n",
       "      <td>46.800000</td>\n",
       "      <td>0.925</td>\n",
       "      <td>45.0</td>\n",
       "      <td>1</td>\n",
       "    </tr>\n",
       "  </tbody>\n",
       "</table>\n",
       "<p>707 rows × 7 columns</p>\n",
       "</div>"
      ],
      "text/plain": [
       "     Pregnancies  Glucose  BloodPressure        BMI  DiabetesPedigreeFunction  \\\n",
       "694            2     90.0           60.0  23.500000                     0.191   \n",
       "84             5    137.0          108.0  48.800000                     0.227   \n",
       "366            6    124.0           72.0  27.600000                     0.368   \n",
       "402            5    136.0           84.0  35.000000                     0.286   \n",
       "355            9    165.0           88.0  30.400000                     0.302   \n",
       "..           ...      ...            ...        ...                       ...   \n",
       "564            0     91.0           80.0  32.400000                     0.601   \n",
       "101            1    151.0           60.0  13.518127                     0.179   \n",
       "139            5    105.0           72.0  36.900000                     0.159   \n",
       "548            1    164.0           82.0  32.800000                     0.341   \n",
       "590           11    111.0           84.0  46.800000                     0.925   \n",
       "\n",
       "      Age  Outcome  \n",
       "694  25.0        0  \n",
       "84   37.0        1  \n",
       "366  29.0        1  \n",
       "402  35.0        1  \n",
       "355  49.0        1  \n",
       "..    ...      ...  \n",
       "564  27.0        0  \n",
       "101  22.0        0  \n",
       "139  28.0        0  \n",
       "548  50.0        0  \n",
       "590  45.0        1  \n",
       "\n",
       "[707 rows x 7 columns]"
      ]
     },
     "execution_count": 51,
     "metadata": {},
     "output_type": "execute_result"
    }
   ],
   "source": [
    "data\n"
   ]
  },
  {
   "cell_type": "code",
   "execution_count": null,
   "metadata": {},
   "outputs": [],
   "source": []
  }
 ],
 "metadata": {
  "kernelspec": {
   "display_name": "Python 3",
   "language": "python",
   "name": "python3"
  },
  "language_info": {
   "codemirror_mode": {
    "name": "ipython",
    "version": 3
   },
   "file_extension": ".py",
   "mimetype": "text/x-python",
   "name": "python",
   "nbconvert_exporter": "python",
   "pygments_lexer": "ipython3",
   "version": "3.6.8"
  }
 },
 "nbformat": 4,
 "nbformat_minor": 2
}
