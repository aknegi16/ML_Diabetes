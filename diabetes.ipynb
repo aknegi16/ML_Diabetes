{
 "cells": [
  {
   "cell_type": "code",
   "execution_count": 4331,
   "metadata": {},
   "outputs": [],
   "source": [
    "import pandas as pd\n",
    "import numpy as np"
   ]
  },
  {
   "cell_type": "code",
   "execution_count": 4332,
   "metadata": {},
   "outputs": [],
   "source": [
    "from sklearn.linear_model import LogisticRegression\n",
    "import sklearn.decomposition as skdc\n",
    "import sklearn.linear_model as sklm \n",
    "from sklearn.model_selection import KFold\n",
    "from sklearn.model_selection import cross_val_score\n",
    "import sklearn.pipeline as skpl"
   ]
  },
  {
   "cell_type": "code",
   "execution_count": 4333,
   "metadata": {},
   "outputs": [],
   "source": [
    "data = pd.read_csv('data/Pima_Indian_diabetes.csv')\n",
    "\n",
    "\n",
    "\n"
   ]
  },
  {
   "cell_type": "code",
   "execution_count": 4334,
   "metadata": {},
   "outputs": [
    {
     "data": {
      "text/plain": [
       "(768, 9)"
      ]
     },
     "execution_count": 4334,
     "metadata": {},
     "output_type": "execute_result"
    }
   ],
   "source": [
    "data.shape"
   ]
  },
  {
   "cell_type": "code",
   "execution_count": 4335,
   "metadata": {},
   "outputs": [
    {
     "data": {
      "text/plain": [
       "Pregnancies                 26\n",
       "Glucose                     16\n",
       "BloodPressure                0\n",
       "SkinThickness               22\n",
       "Insulin                      0\n",
       "BMI                         11\n",
       "DiabetesPedigreeFunction     0\n",
       "Age                         19\n",
       "Outcome                      0\n",
       "dtype: int64"
      ]
     },
     "execution_count": 4335,
     "metadata": {},
     "output_type": "execute_result"
    }
   ],
   "source": [
    "data.isnull().sum(axis=0)\n"
   ]
  },
  {
   "cell_type": "code",
   "execution_count": 4336,
   "metadata": {},
   "outputs": [],
   "source": [
    "#data['Pregnancies']=data['Pregnancies'].fillna((data['Pregnancies'].mean()))\n",
    "data['Pregnancies']=data['Pregnancies'].fillna((0))\n"
   ]
  },
  {
   "cell_type": "code",
   "execution_count": null,
   "metadata": {},
   "outputs": [],
   "source": []
  },
  {
   "cell_type": "code",
   "execution_count": 4337,
   "metadata": {},
   "outputs": [
    {
     "data": {
      "text/plain": [
       "(768, 9)"
      ]
     },
     "execution_count": 4337,
     "metadata": {},
     "output_type": "execute_result"
    }
   ],
   "source": [
    "data['Glucose']=data['Glucose'].fillna((data['Glucose'].mean()))\n",
    "data.shape"
   ]
  },
  {
   "cell_type": "code",
   "execution_count": 4338,
   "metadata": {},
   "outputs": [],
   "source": [
    "#data['SkinThickness']=data['SkinThickness'].fillna((data['SkinThickness'].mean()))\n"
   ]
  },
  {
   "cell_type": "code",
   "execution_count": 4339,
   "metadata": {},
   "outputs": [],
   "source": [
    "\n",
    "\n",
    "data['BMI']=data['BMI'].fillna((0))"
   ]
  },
  {
   "cell_type": "code",
   "execution_count": 4340,
   "metadata": {},
   "outputs": [
    {
     "data": {
      "text/plain": [
       "33.76133595599271"
      ]
     },
     "execution_count": 4340,
     "metadata": {},
     "output_type": "execute_result"
    }
   ],
   "source": [
    "data['Age'].mean()\n",
    "\n",
    "\n"
   ]
  },
  {
   "cell_type": "code",
   "execution_count": 4341,
   "metadata": {},
   "outputs": [],
   "source": [
    "\n",
    "data['Age']=data['Age'].fillna((25))"
   ]
  },
  {
   "cell_type": "code",
   "execution_count": 4342,
   "metadata": {},
   "outputs": [
    {
     "data": {
      "text/plain": [
       "(768, 9)"
      ]
     },
     "execution_count": 4342,
     "metadata": {},
     "output_type": "execute_result"
    }
   ],
   "source": [
    "data.shape"
   ]
  },
  {
   "cell_type": "code",
   "execution_count": 4343,
   "metadata": {},
   "outputs": [],
   "source": [
    "convert_dic={'Pregnancies':int}\n"
   ]
  },
  {
   "cell_type": "code",
   "execution_count": 4344,
   "metadata": {},
   "outputs": [],
   "source": [
    "data=data.astype(convert_dic)\n"
   ]
  },
  {
   "cell_type": "code",
   "execution_count": 4345,
   "metadata": {},
   "outputs": [
    {
     "data": {
      "text/plain": [
       "(768, 9)"
      ]
     },
     "execution_count": 4345,
     "metadata": {},
     "output_type": "execute_result"
    }
   ],
   "source": [
    "data.shape"
   ]
  },
  {
   "cell_type": "code",
   "execution_count": 4346,
   "metadata": {},
   "outputs": [],
   "source": [
    "negage=data[data['Age']<18].index\n"
   ]
  },
  {
   "cell_type": "code",
   "execution_count": 4347,
   "metadata": {},
   "outputs": [],
   "source": [
    "data.drop(negage,inplace=True)"
   ]
  },
  {
   "cell_type": "code",
   "execution_count": 4348,
   "metadata": {},
   "outputs": [
    {
     "data": {
      "text/plain": [
       "(768, 9)"
      ]
     },
     "execution_count": 4348,
     "metadata": {},
     "output_type": "execute_result"
    }
   ],
   "source": [
    "data.shape"
   ]
  },
  {
   "cell_type": "code",
   "execution_count": 4349,
   "metadata": {},
   "outputs": [],
   "source": [
    "negpreg=data[data['Pregnancies']<0].index"
   ]
  },
  {
   "cell_type": "code",
   "execution_count": 4350,
   "metadata": {},
   "outputs": [],
   "source": [
    "data.drop(negpreg,inplace=True)"
   ]
  },
  {
   "cell_type": "code",
   "execution_count": 4351,
   "metadata": {},
   "outputs": [
    {
     "data": {
      "text/plain": [
       "(765, 9)"
      ]
     },
     "execution_count": 4351,
     "metadata": {},
     "output_type": "execute_result"
    }
   ],
   "source": [
    "data.shape"
   ]
  },
  {
   "cell_type": "code",
   "execution_count": 4352,
   "metadata": {},
   "outputs": [],
   "source": [
    "negbmi=data[data['BMI']<=0].index"
   ]
  },
  {
   "cell_type": "code",
   "execution_count": 4353,
   "metadata": {},
   "outputs": [
    {
     "data": {
      "text/plain": [
       "(765, 9)"
      ]
     },
     "execution_count": 4353,
     "metadata": {},
     "output_type": "execute_result"
    }
   ],
   "source": [
    "data.shape"
   ]
  },
  {
   "cell_type": "code",
   "execution_count": 4354,
   "metadata": {},
   "outputs": [],
   "source": [
    "data.drop(negbmi,inplace=True)"
   ]
  },
  {
   "cell_type": "code",
   "execution_count": 4355,
   "metadata": {},
   "outputs": [],
   "source": [
    "#negins=data[data['Insulin']<=0].index"
   ]
  },
  {
   "cell_type": "code",
   "execution_count": 4356,
   "metadata": {},
   "outputs": [],
   "source": [
    "#data.drop(negins,inplace=True)"
   ]
  },
  {
   "cell_type": "code",
   "execution_count": 4357,
   "metadata": {},
   "outputs": [],
   "source": [
    "#negskin=data[data['SkinThickness']<0].index"
   ]
  },
  {
   "cell_type": "code",
   "execution_count": 4358,
   "metadata": {},
   "outputs": [],
   "source": [
    "#data.drop(negskin,inplace=True)"
   ]
  },
  {
   "cell_type": "code",
   "execution_count": 4359,
   "metadata": {},
   "outputs": [],
   "source": [
    "negglu=data[data['Glucose']<=0].index"
   ]
  },
  {
   "cell_type": "code",
   "execution_count": 4360,
   "metadata": {},
   "outputs": [],
   "source": [
    "data.drop(negglu,inplace=True)"
   ]
  },
  {
   "cell_type": "code",
   "execution_count": 4361,
   "metadata": {},
   "outputs": [],
   "source": [
    "negbp=data[data['BloodPressure']<=0].index"
   ]
  },
  {
   "cell_type": "code",
   "execution_count": 4362,
   "metadata": {},
   "outputs": [],
   "source": [
    "data.drop(negbp,inplace=True)\n"
   ]
  },
  {
   "cell_type": "code",
   "execution_count": 4363,
   "metadata": {},
   "outputs": [],
   "source": [
    "#data['Age']=data['Age'].replace(0.0,data['Age'].mean())"
   ]
  },
  {
   "cell_type": "code",
   "execution_count": null,
   "metadata": {},
   "outputs": [],
   "source": []
  },
  {
   "cell_type": "code",
   "execution_count": 4364,
   "metadata": {},
   "outputs": [],
   "source": [
    "data.drop('SkinThickness',axis=1,inplace=True)\n"
   ]
  },
  {
   "cell_type": "code",
   "execution_count": 4365,
   "metadata": {},
   "outputs": [],
   "source": [
    "data.drop('Insulin',axis=1,inplace=True)"
   ]
  },
  {
   "cell_type": "code",
   "execution_count": 4366,
   "metadata": {},
   "outputs": [
    {
     "name": "stdout",
     "output_type": "stream",
     "text": [
      "<class 'pandas.core.frame.DataFrame'>\n",
      "Int64Index: 707 entries, 0 to 767\n",
      "Data columns (total 7 columns):\n",
      "Pregnancies                 707 non-null int64\n",
      "Glucose                     707 non-null float64\n",
      "BloodPressure               707 non-null float64\n",
      "BMI                         707 non-null float64\n",
      "DiabetesPedigreeFunction    707 non-null float64\n",
      "Age                         707 non-null float64\n",
      "Outcome                     707 non-null int64\n",
      "dtypes: float64(5), int64(2)\n",
      "memory usage: 44.2 KB\n"
     ]
    }
   ],
   "source": [
    "data.info()"
   ]
  },
  {
   "cell_type": "code",
   "execution_count": null,
   "metadata": {},
   "outputs": [],
   "source": []
  },
  {
   "cell_type": "code",
   "execution_count": 4367,
   "metadata": {},
   "outputs": [
    {
     "data": {
      "text/plain": [
       "'\"data.loc[data[\"Glucose\"] == 0.0, \"Glucose\"] = np.NAN\\ndata.loc[data[\"BloodPressure\"] == 0.0, \"BloodPressure\"] = np.NAN\\n#data.loc[data[\"SkinThickness\"] == 0.0, \"SkinThickness\"] = np.NAN\\n#data.loc[data[\"Insulin\"] == 0.0, \"Insulin\"] = np.NAN\\ndata.loc[data[\"BMI\"] == 0.0, \"BMI\"] = np.NAN\\n\\ndata.isnull().sum()[1:6]'"
      ]
     },
     "execution_count": 4367,
     "metadata": {},
     "output_type": "execute_result"
    }
   ],
   "source": [
    "\"\"\"\"data.loc[data[\"Glucose\"] == 0.0, \"Glucose\"] = np.NAN\n",
    "data.loc[data[\"BloodPressure\"] == 0.0, \"BloodPressure\"] = np.NAN\n",
    "#data.loc[data[\"SkinThickness\"] == 0.0, \"SkinThickness\"] = np.NAN\n",
    "#data.loc[data[\"Insulin\"] == 0.0, \"Insulin\"] = np.NAN\n",
    "data.loc[data[\"BMI\"] == 0.0, \"BMI\"] = np.NAN\n",
    "\n",
    "data.isnull().sum()[1:6]\"\"\"\n"
   ]
  },
  {
   "cell_type": "code",
   "execution_count": 4368,
   "metadata": {},
   "outputs": [
    {
     "data": {
      "text/plain": [
       "(707, 7)"
      ]
     },
     "execution_count": 4368,
     "metadata": {},
     "output_type": "execute_result"
    }
   ],
   "source": [
    "data.shape\n"
   ]
  },
  {
   "cell_type": "code",
   "execution_count": 4369,
   "metadata": {},
   "outputs": [],
   "source": [
    "def standardization(x): #Define function to standardize the data, since all variables are not in the same units\n",
    "    xmean = np.mean(x) ##calculate mean\n",
    "    sd = np.std(x) ##calculate standard deviation \n",
    "    x_z = (x - xmean) / sd ##calculate standardized value to return\n",
    "    return(x_z)"
   ]
  },
  {
   "cell_type": "code",
   "execution_count": 4370,
   "metadata": {},
   "outputs": [
    {
     "name": "stderr",
     "output_type": "stream",
     "text": [
      "/home/akash/.local/lib/python3.6/site-packages/ipykernel_launcher.py:1: FutureWarning: The broadcast argument is deprecated and will be removed in a future version. You can specify result_type='broadcast' to broadcast the result to the original dimensions\n",
      "  \"\"\"Entry point for launching an IPython kernel.\n"
     ]
    }
   ],
   "source": [
    "\n",
    "data_stnd = data.drop(['Outcome'], 1).apply(standardization,broadcast = True) \n",
    "##drop response variable and standardize predictor variables\n",
    "data_stnd.head()\n",
    "X = data_stnd #store predictor variables\n",
    "y = data['Outcome'] #store response variable\n",
    "pca = skdc.PCA()\n",
    "pcafit = pca.fit_transform(X,y)\n",
    "var_explained = pca.explained_variance_ratio_ \n",
    "pca = skdc.PCA(n_components = 6) #only include first 10 components\n",
    "logreg = sklm.LogisticRegression(solver='lbfgs')#empty model space\n",
    "pipeline = skpl.Pipeline([('pca', pca), ('logistic', logreg)])"
   ]
  },
  {
   "cell_type": "markdown",
   "metadata": {},
   "source": [
    "data=data.sample(frac=1)"
   ]
  },
  {
   "cell_type": "code",
   "execution_count": 4371,
   "metadata": {},
   "outputs": [],
   "source": [
    "data=data.sample(frac=1)"
   ]
  },
  {
   "cell_type": "code",
   "execution_count": 4372,
   "metadata": {},
   "outputs": [],
   "source": [
    "dfTrain = data[:600]\n",
    "dfTest = data[601:]\n"
   ]
  },
  {
   "cell_type": "code",
   "execution_count": 4373,
   "metadata": {},
   "outputs": [],
   "source": [
    "trainLabel = np.asarray(dfTrain['Outcome'])\n",
    "trainData = np.asarray(dfTrain.drop('Outcome',1))\n",
    "testLabel = np.asarray(dfTest['Outcome'])\n",
    "testData = np.asarray(dfTest.drop('Outcome',1))"
   ]
  },
  {
   "cell_type": "code",
   "execution_count": 4374,
   "metadata": {},
   "outputs": [
    {
     "data": {
      "text/plain": [
       "'\"means = np.mean(trainData, axis=0)\\nstds = np.std(trainData, axis=0)\\ntrainData = (trainData - means)/stds\\ntestData = (testData - means)/stds'"
      ]
     },
     "execution_count": 4374,
     "metadata": {},
     "output_type": "execute_result"
    }
   ],
   "source": [
    "#normalisation\n",
    "\"\"\"\"means = np.mean(trainData, axis=0)\n",
    "stds = np.std(trainData, axis=0)\n",
    "trainData = (trainData - means)/stds\n",
    "testData = (testData - means)/stds\"\"\""
   ]
  },
  {
   "cell_type": "code",
   "execution_count": null,
   "metadata": {},
   "outputs": [],
   "source": [
    "\n"
   ]
  },
  {
   "cell_type": "code",
   "execution_count": null,
   "metadata": {},
   "outputs": [],
   "source": []
  },
  {
   "cell_type": "code",
   "execution_count": null,
   "metadata": {},
   "outputs": [],
   "source": []
  },
  {
   "cell_type": "code",
   "execution_count": null,
   "metadata": {},
   "outputs": [],
   "source": []
  },
  {
   "cell_type": "code",
   "execution_count": 4375,
   "metadata": {},
   "outputs": [
    {
     "data": {
      "text/plain": [
       "Pipeline(memory=None,\n",
       "         steps=[('pca',\n",
       "                 PCA(copy=True, iterated_power='auto', n_components=6,\n",
       "                     random_state=None, svd_solver='auto', tol=0.0,\n",
       "                     whiten=False)),\n",
       "                ('logistic',\n",
       "                 LogisticRegression(C=1.0, class_weight=None, dual=False,\n",
       "                                    fit_intercept=True, intercept_scaling=1,\n",
       "                                    l1_ratio=None, max_iter=100,\n",
       "                                    multi_class='warn', n_jobs=None,\n",
       "                                    penalty='l2', random_state=None,\n",
       "                                    solver='lbfgs', tol=0.0001, verbose=0,\n",
       "                                    warm_start=False))],\n",
       "         verbose=False)"
      ]
     },
     "execution_count": 4375,
     "metadata": {},
     "output_type": "execute_result"
    }
   ],
   "source": [
    "#diabetesCheck = LogisticRegression()\n",
    "#diabetesCheck.fit(trainData, trainLabel)\n",
    "pipeline.fit(trainData, trainLabel)"
   ]
  },
  {
   "cell_type": "code",
   "execution_count": 4376,
   "metadata": {},
   "outputs": [],
   "source": [
    "kfold = KFold(n_splits=10, random_state=10) \n",
    "score = cross_val_score(pipeline, X, y, cv=kfold, scoring='accuracy').mean()"
   ]
  },
  {
   "cell_type": "code",
   "execution_count": 4377,
   "metadata": {},
   "outputs": [
    {
     "name": "stdout",
     "output_type": "stream",
     "text": [
      "accuracy =  76.38229376257544 %\n"
     ]
    }
   ],
   "source": [
    "#accuracy = pipeline.score(testData, testLabel)\n",
    "print(\"accuracy = \", score* 100, \"%\")"
   ]
  },
  {
   "cell_type": "code",
   "execution_count": 4378,
   "metadata": {},
   "outputs": [
    {
     "data": {
      "text/html": [
       "<div>\n",
       "<style scoped>\n",
       "    .dataframe tbody tr th:only-of-type {\n",
       "        vertical-align: middle;\n",
       "    }\n",
       "\n",
       "    .dataframe tbody tr th {\n",
       "        vertical-align: top;\n",
       "    }\n",
       "\n",
       "    .dataframe thead th {\n",
       "        text-align: right;\n",
       "    }\n",
       "</style>\n",
       "<table border=\"1\" class=\"dataframe\">\n",
       "  <thead>\n",
       "    <tr style=\"text-align: right;\">\n",
       "      <th></th>\n",
       "      <th>Pregnancies</th>\n",
       "      <th>Glucose</th>\n",
       "      <th>BloodPressure</th>\n",
       "      <th>BMI</th>\n",
       "      <th>DiabetesPedigreeFunction</th>\n",
       "      <th>Age</th>\n",
       "      <th>Outcome</th>\n",
       "    </tr>\n",
       "  </thead>\n",
       "  <tbody>\n",
       "    <tr>\n",
       "      <td>138</td>\n",
       "      <td>0</td>\n",
       "      <td>129.000000</td>\n",
       "      <td>80.000000</td>\n",
       "      <td>31.2</td>\n",
       "      <td>0.703</td>\n",
       "      <td>53.698706</td>\n",
       "      <td>0</td>\n",
       "    </tr>\n",
       "    <tr>\n",
       "      <td>384</td>\n",
       "      <td>1</td>\n",
       "      <td>125.000000</td>\n",
       "      <td>70.000000</td>\n",
       "      <td>24.3</td>\n",
       "      <td>0.221</td>\n",
       "      <td>25.000000</td>\n",
       "      <td>0</td>\n",
       "    </tr>\n",
       "    <tr>\n",
       "      <td>383</td>\n",
       "      <td>1</td>\n",
       "      <td>90.000000</td>\n",
       "      <td>62.000000</td>\n",
       "      <td>25.1</td>\n",
       "      <td>1.268</td>\n",
       "      <td>25.000000</td>\n",
       "      <td>0</td>\n",
       "    </tr>\n",
       "    <tr>\n",
       "      <td>113</td>\n",
       "      <td>4</td>\n",
       "      <td>76.000000</td>\n",
       "      <td>62.000000</td>\n",
       "      <td>34.0</td>\n",
       "      <td>0.391</td>\n",
       "      <td>25.000000</td>\n",
       "      <td>0</td>\n",
       "    </tr>\n",
       "    <tr>\n",
       "      <td>28</td>\n",
       "      <td>13</td>\n",
       "      <td>145.000000</td>\n",
       "      <td>82.000000</td>\n",
       "      <td>22.2</td>\n",
       "      <td>0.245</td>\n",
       "      <td>57.000000</td>\n",
       "      <td>0</td>\n",
       "    </tr>\n",
       "    <tr>\n",
       "      <td>...</td>\n",
       "      <td>...</td>\n",
       "      <td>...</td>\n",
       "      <td>...</td>\n",
       "      <td>...</td>\n",
       "      <td>...</td>\n",
       "      <td>...</td>\n",
       "      <td>...</td>\n",
       "    </tr>\n",
       "    <tr>\n",
       "      <td>238</td>\n",
       "      <td>9</td>\n",
       "      <td>163.376748</td>\n",
       "      <td>84.000000</td>\n",
       "      <td>30.8</td>\n",
       "      <td>0.831</td>\n",
       "      <td>32.000000</td>\n",
       "      <td>1</td>\n",
       "    </tr>\n",
       "    <tr>\n",
       "      <td>548</td>\n",
       "      <td>1</td>\n",
       "      <td>164.000000</td>\n",
       "      <td>82.000000</td>\n",
       "      <td>32.8</td>\n",
       "      <td>0.341</td>\n",
       "      <td>50.000000</td>\n",
       "      <td>0</td>\n",
       "    </tr>\n",
       "    <tr>\n",
       "      <td>241</td>\n",
       "      <td>4</td>\n",
       "      <td>91.000000</td>\n",
       "      <td>70.000000</td>\n",
       "      <td>33.1</td>\n",
       "      <td>0.446</td>\n",
       "      <td>22.000000</td>\n",
       "      <td>0</td>\n",
       "    </tr>\n",
       "    <tr>\n",
       "      <td>366</td>\n",
       "      <td>6</td>\n",
       "      <td>124.000000</td>\n",
       "      <td>72.000000</td>\n",
       "      <td>27.6</td>\n",
       "      <td>0.368</td>\n",
       "      <td>29.000000</td>\n",
       "      <td>1</td>\n",
       "    </tr>\n",
       "    <tr>\n",
       "      <td>218</td>\n",
       "      <td>9</td>\n",
       "      <td>85.000000</td>\n",
       "      <td>71.711597</td>\n",
       "      <td>29.0</td>\n",
       "      <td>1.224</td>\n",
       "      <td>25.000000</td>\n",
       "      <td>1</td>\n",
       "    </tr>\n",
       "  </tbody>\n",
       "</table>\n",
       "<p>707 rows × 7 columns</p>\n",
       "</div>"
      ],
      "text/plain": [
       "     Pregnancies     Glucose  BloodPressure   BMI  DiabetesPedigreeFunction  \\\n",
       "138            0  129.000000      80.000000  31.2                     0.703   \n",
       "384            1  125.000000      70.000000  24.3                     0.221   \n",
       "383            1   90.000000      62.000000  25.1                     1.268   \n",
       "113            4   76.000000      62.000000  34.0                     0.391   \n",
       "28            13  145.000000      82.000000  22.2                     0.245   \n",
       "..           ...         ...            ...   ...                       ...   \n",
       "238            9  163.376748      84.000000  30.8                     0.831   \n",
       "548            1  164.000000      82.000000  32.8                     0.341   \n",
       "241            4   91.000000      70.000000  33.1                     0.446   \n",
       "366            6  124.000000      72.000000  27.6                     0.368   \n",
       "218            9   85.000000      71.711597  29.0                     1.224   \n",
       "\n",
       "           Age  Outcome  \n",
       "138  53.698706        0  \n",
       "384  25.000000        0  \n",
       "383  25.000000        0  \n",
       "113  25.000000        0  \n",
       "28   57.000000        0  \n",
       "..         ...      ...  \n",
       "238  32.000000        1  \n",
       "548  50.000000        0  \n",
       "241  22.000000        0  \n",
       "366  29.000000        1  \n",
       "218  25.000000        1  \n",
       "\n",
       "[707 rows x 7 columns]"
      ]
     },
     "execution_count": 4378,
     "metadata": {},
     "output_type": "execute_result"
    }
   ],
   "source": [
    "data\n"
   ]
  },
  {
   "cell_type": "code",
   "execution_count": null,
   "metadata": {},
   "outputs": [],
   "source": []
  }
 ],
 "metadata": {
  "kernelspec": {
   "display_name": "Python 3",
   "language": "python",
   "name": "python3"
  },
  "language_info": {
   "codemirror_mode": {
    "name": "ipython",
    "version": 3
   },
   "file_extension": ".py",
   "mimetype": "text/x-python",
   "name": "python",
   "nbconvert_exporter": "python",
   "pygments_lexer": "ipython3",
   "version": "3.6.8"
  }
 },
 "nbformat": 4,
 "nbformat_minor": 2
}
